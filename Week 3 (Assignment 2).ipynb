{
 "cells": [
  {
   "cell_type": "raw",
   "id": "c10d10ba",
   "metadata": {},
   "source": [
    "Q1. Create a python program to sort the given list of tuples based on integer value using a\n",
    "lambda function.\n",
    "[('Sachin Tendulkar', 34357), ('Ricky Ponting', 27483), ('Jack Kallis', 25534), ('Virat Kohli', 24936)]"
   ]
  },
  {
   "cell_type": "markdown",
   "id": "7230abe0",
   "metadata": {},
   "source": [
    "Answer:"
   ]
  },
  {
   "cell_type": "code",
   "execution_count": 21,
   "id": "20f7591e",
   "metadata": {},
   "outputs": [
    {
     "name": "stdout",
     "output_type": "stream",
     "text": [
      "[('Jack Kallis', 25534), ('Ricky Ponting', 27483), ('Sachin Tendulkar', 34357), ('Virat Kohli', 24936)]\n"
     ]
    }
   ],
   "source": [
    "def sort_tuples_by_integer(input_list):\n",
    "    sorted_list=sorted(input_list, key=lambda x:x[0])\n",
    "    return sorted_list\n",
    "input_list=[('Sachin Tendulkar', 34357), ('Ricky Ponting', 27483), ('Jack Kallis', 25534), ('Virat Kohli', 24936)]\n",
    "sorted_list=sort_tuples_by_integer(input_list)\n",
    "print(sorted_list)"
   ]
  },
  {
   "cell_type": "raw",
   "id": "653a5943",
   "metadata": {},
   "source": [
    "Q2. Write a Python Program to find the squares of all the numbers in the given list of integers using\n",
    "lambda and map functions.\n",
    "[1, 2, 3, 4, 5, 6, 7, 8, 9, 10]"
   ]
  },
  {
   "cell_type": "markdown",
   "id": "e418381a",
   "metadata": {},
   "source": [
    "Answer:"
   ]
  },
  {
   "cell_type": "code",
   "execution_count": 24,
   "id": "aafa1b46",
   "metadata": {},
   "outputs": [
    {
     "name": "stdout",
     "output_type": "stream",
     "text": [
      "List of Square:\n",
      "[1, 4, 9, 16, 25, 36, 49, 64, 81, 100]\n"
     ]
    }
   ],
   "source": [
    "input_list=[1, 2, 3, 4, 5, 6, 7, 8, 9, 10]\n",
    "squared_list=list(map(lambda x:x**2,input_list))\n",
    "print(\"List of Square:\")\n",
    "print(squared_list)"
   ]
  },
  {
   "cell_type": "raw",
   "id": "7df6e745",
   "metadata": {},
   "source": [
    "Q3. Write a python program to convert the given list of integers into a tuple of strings. Use map and\n",
    "lambda functions\n",
    "Given String: [1, 2, 3, 4, 5, 6, 7, 8, 9, 10]\n",
    "Expected output: ('1', '2', '3', '4', '5', '6', '7', '8', '9', '10')"
   ]
  },
  {
   "cell_type": "markdown",
   "id": "f1f2ab45",
   "metadata": {},
   "source": [
    "Answer:"
   ]
  },
  {
   "cell_type": "code",
   "execution_count": 27,
   "id": "2b646ed8",
   "metadata": {},
   "outputs": [
    {
     "name": "stdout",
     "output_type": "stream",
     "text": [
      "Converted tuple of String:\n",
      "('1', '2', '3', '4', '5', '6', '7', '8', '8', '10')\n"
     ]
    }
   ],
   "source": [
    "input_list=[1, 2, 3, 4, 5, 6, 7, 8, 8, 10]\n",
    "converted_tuple=tuple(map(lambda x:str(x), input_list))\n",
    "print(\"Converted tuple of String:\")\n",
    "print(converted_tuple)"
   ]
  },
  {
   "cell_type": "raw",
   "id": "55c341f8",
   "metadata": {},
   "source": [
    "Q4. Write a python program using reduce function to compute the product of a list containing numbers\n",
    "from 1 to 25."
   ]
  },
  {
   "cell_type": "markdown",
   "id": "85a6ce1a",
   "metadata": {},
   "source": [
    "Answer:"
   ]
  },
  {
   "cell_type": "code",
   "execution_count": 36,
   "id": "8bfa3786",
   "metadata": {},
   "outputs": [
    {
     "name": "stdout",
     "output_type": "stream",
     "text": [
      "Product of the numbers from 1 to 25: 15511210043330985984000000\n"
     ]
    }
   ],
   "source": [
    "from functools import reduce\n",
    "def multiply(x,y):\n",
    "    return x*y\n",
    "number_list=list(range(1, 26))\n",
    "product=reduce(multiply, number_list)\n",
    "print(\"Product of the numbers from 1 to 25:\",product)\n",
    "    "
   ]
  },
  {
   "cell_type": "raw",
   "id": "1a3d49ba",
   "metadata": {},
   "source": [
    "Q5. Write a python program to filter the numbers in a given list that are divisible by 2 and 3 using the\n",
    "filter function.\n",
    "[2, 3, 6, 9, 27, 60, 90, 120, 55, 46]"
   ]
  },
  {
   "cell_type": "markdown",
   "id": "71784096",
   "metadata": {},
   "source": [
    "Answer:"
   ]
  },
  {
   "cell_type": "code",
   "execution_count": 38,
   "id": "502bf9a9",
   "metadata": {},
   "outputs": [
    {
     "name": "stdout",
     "output_type": "stream",
     "text": [
      "Numbers divisible by both 2 and 3:\n",
      "[6, 60, 90, 120]\n"
     ]
    }
   ],
   "source": [
    "def is_divisible_by_2_and_3(num):\n",
    "    return num % 2 == 0 and num % 3 == 0\n",
    "input_list=[2, 3, 6, 9, 27, 60, 90, 120, 55, 46]\n",
    "filtered_list=list(filter(is_divisible_by_2_and_3,input_list))\n",
    "print(\"Numbers divisible by both 2 and 3:\")\n",
    "print(filtered_list)"
   ]
  },
  {
   "cell_type": "raw",
   "id": "ff4f90cd",
   "metadata": {},
   "source": [
    "Q6. Write a python program to find palindromes in the given list of strings using lambda and filter\n",
    "function.\n",
    "['python', 'php', 'aba', 'radar', 'level']"
   ]
  },
  {
   "cell_type": "markdown",
   "id": "8d939198",
   "metadata": {},
   "source": [
    "Answer:"
   ]
  },
  {
   "cell_type": "code",
   "execution_count": 43,
   "id": "cadd59ef",
   "metadata": {},
   "outputs": [
    {
     "name": "stdout",
     "output_type": "stream",
     "text": [
      "Palindrome in the list:\n",
      "['php', 'aba', 'radar', 'level']\n"
     ]
    }
   ],
   "source": [
    "is_palindrome = lambda s: s == s[::-1]\n",
    "input_list=['python', 'php', 'aba', 'radar', 'level']\n",
    "palindromes=list(filter(is_palindrome,input_list))\n",
    "print(\"Palindrome in the list:\")\n",
    "print(palindromes)"
   ]
  },
  {
   "cell_type": "code",
   "execution_count": null,
   "id": "0291f8f5",
   "metadata": {},
   "outputs": [],
   "source": []
  }
 ],
 "metadata": {
  "kernelspec": {
   "display_name": "Python 3 (ipykernel)",
   "language": "python",
   "name": "python3"
  },
  "language_info": {
   "codemirror_mode": {
    "name": "ipython",
    "version": 3
   },
   "file_extension": ".py",
   "mimetype": "text/x-python",
   "name": "python",
   "nbconvert_exporter": "python",
   "pygments_lexer": "ipython3",
   "version": "3.9.13"
  }
 },
 "nbformat": 4,
 "nbformat_minor": 5
}
